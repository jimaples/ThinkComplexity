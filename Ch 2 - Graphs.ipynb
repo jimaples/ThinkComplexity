{
 "cells": [
  {
   "cell_type": "markdown",
   "metadata": {},
   "source": [
    "<p style=\"background-color:#D0D0FF; padding:10px;\">This notebook presents solutions to the exercises in <a href=\"http://www.greenteapress.com/compmod/html/thinkcomplexity003.html\" target=\"_blank\">Chapter 2</a> of Allen B. Downey's <a href=\"http://www.greenteapress.com/compmod/\" target=\"_blank\">Think Complexity</a></p>"
   ]
  },
  {
   "cell_type": "code",
   "execution_count": 1,
   "metadata": {
    "collapsed": true
   },
   "outputs": [],
   "source": [
    "import itertools\n",
    "import random"
   ]
  },
  {
   "cell_type": "code",
   "execution_count": 2,
   "metadata": {},
   "outputs": [],
   "source": [
    "\"\"\" Code example from Complexity and Computation, a book about\n",
    "exploring complexity science with Python.  Available free from\n",
    "\n",
    "http://greenteapress.com/complexity\n",
    "\n",
    "Copyright 2011 Allen B. Downey.\n",
    "Distributed under the GNU General Public License at gnu.org/licenses/gpl.html.\n",
    "\n",
    "Updated 2017 for Python 3\n",
    "\"\"\"\n",
    "\n",
    "class Vertex(object):\n",
    "    \"\"\"A Vertex is a node in a graph.\"\"\"\n",
    "\n",
    "    def __init__(self, label=''):\n",
    "        self.label = label\n",
    "\n",
    "    def __repr__(self):\n",
    "        \"\"\"Returns a string representation of this object that can\n",
    "        be evaluated as a Python expression.\"\"\"\n",
    "        return 'Vertex(%s)' % repr(self.label)\n",
    "\n",
    "    __str__ = __repr__\n",
    "    \"\"\"The str and repr forms of this object are the same.\"\"\"\n",
    "\n",
    "\n",
    "class Edge(tuple):\n",
    "    \"\"\"An Edge is a list of two vertices.\"\"\"\n",
    "\n",
    "    def __new__(cls, *vs):\n",
    "        \"\"\"The Edge constructor takes two vertices.\"\"\"\n",
    "        if len(vs) != 2:\n",
    "            raise ValueError('Edges must connect exactly two vertices.')\n",
    "        return tuple.__new__(cls, vs)\n",
    "\n",
    "    def __repr__(self):\n",
    "        \"\"\"Return a string representation of this object that can\n",
    "        be evaluated as a Python expression.\"\"\"\n",
    "        return 'Edge(%s, %s)' % (repr(self[0]), repr(self[1]))\n",
    "\n",
    "    __str__ = __repr__\n",
    "    \"\"\"The str and repr forms of this object are the same.\"\"\"\n",
    "\n",
    "\n",
    "class Graph(dict):\n",
    "    \"\"\"A Graph is a dictionary of dictionaries.  The outer\n",
    "    dictionary maps from a vertex to an inner dictionary.\n",
    "    The inner dictionary maps from other vertices to edges.\n",
    "    \n",
    "    For vertices a and b, graph[a][b] maps\n",
    "    to the edge that connects a->b, if it exists.\"\"\"\n",
    "\n",
    "    def __init__(self, vs=[], es=[]):\n",
    "        \"\"\"Creates a new graph.  \n",
    "        vs: list of vertices;\n",
    "        es: list of edges.\n",
    "        \"\"\"\n",
    "        for v in vs:\n",
    "            self.add_vertex(v)\n",
    "            \n",
    "        for e in es:\n",
    "            self.add_edge(e)\n",
    "\n",
    "    def add_vertex(self, v):\n",
    "        \"\"\"Add a vertex to the graph.\"\"\"\n",
    "        self[v] = {}\n",
    "\n",
    "    def add_edge(self, e):\n",
    "        \"\"\"Adds and edge to the graph by adding an entry in both directions.\n",
    "\n",
    "        If there is already an edge connecting these Vertices, the\n",
    "        new edge replaces it.\n",
    "        \"\"\"\n",
    "        v, w = e\n",
    "        self[v][w] = e\n",
    "        self[w][v] = e\n",
    "        \n",
    "    def has_key(self, k):\n",
    "        print('Deprecated usage! For Python 3, use \"<key> in <variable>\" syntax.')\n",
    "        return self.__contains__(k)"
   ]
  },
  {
   "cell_type": "code",
   "execution_count": 3,
   "metadata": {},
   "outputs": [
    {
     "name": "stdout",
     "output_type": "stream",
     "text": [
      "{Vertex('w'): {Vertex('v'): Edge(Vertex('v'), Vertex('w'))}, Vertex('v'): {Vertex('w'): Edge(Vertex('v'), Vertex('w'))}}\n"
     ]
    }
   ],
   "source": [
    "v = Vertex('v')\n",
    "w = Vertex('w')\n",
    "e = Edge(v, w)\n",
    "g = Graph([v, w], [e])\n",
    "print(g)"
   ]
  },
  {
   "cell_type": "markdown",
   "metadata": {},
   "source": [
    "<p style=\"background-color:#D0D0FF; padding:10px;\"><em>Exercise 2.3:</em> Write a method named get_edge that takes two vertices and returns the edge between them if it exists and None otherwise. Hint: use a try statement.</p>"
   ]
  },
  {
   "cell_type": "code",
   "execution_count": 4,
   "metadata": {},
   "outputs": [
    {
     "name": "stdout",
     "output_type": "stream",
     "text": [
      "Edge(Vertex('v'), Vertex('w'))\n",
      "Edge(Vertex('v'), Vertex('w'))\n"
     ]
    }
   ],
   "source": [
    "def get_edge(self, v1, v2):\n",
    "    '''Return the edge between two vertices if they exist'''\n",
    "    if v1 not in self:\n",
    "        return None\n",
    "    elif v2 in self[v1]:\n",
    "        return self[v1][v2]\n",
    "    elif v2 not in self:\n",
    "        # in case of one-way edges\n",
    "        return None\n",
    "    elif v1 not in self[v2]:\n",
    "        return self[v2][v1]\n",
    "    else:\n",
    "        return None\n",
    "\n",
    "print(get_edge(g, w, v))\n",
    "\n",
    "Graph.get_edge = get_edge\n",
    "print(g.get_edge(w, v))"
   ]
  },
  {
   "cell_type": "markdown",
   "metadata": {},
   "source": [
    "<p style=\"background-color:#D0D0FF; padding:10px;\"><em>Exercise 2.4:</em> Write a method named remove_edge that takes an edge and removes all references to it from the graph.</p>"
   ]
  },
  {
   "cell_type": "code",
   "execution_count": 5,
   "metadata": {},
   "outputs": [
    {
     "name": "stdout",
     "output_type": "stream",
     "text": [
      "Edge(Vertex('v'), Vertex('w'))\n",
      "Edge(Vertex('v'), Vertex('w'))\n"
     ]
    }
   ],
   "source": [
    "def remove_edge(self, e):\n",
    "    '''Remove edge from graph'''\n",
    "    v1, v2 = e\n",
    "    deleted = ()\n",
    "    if v1 not in self:\n",
    "        pass\n",
    "    elif v2 in self[v1]:\n",
    "        del self[v1][v2]\n",
    "        deleted = e\n",
    "    \n",
    "    # check for both directions\n",
    "    if v2 not in self:\n",
    "        return ()\n",
    "    elif v1 in self[v2]:\n",
    "        del self[v2][v1]\n",
    "        deleted = e\n",
    "    \n",
    "    # return the deleted edge\n",
    "    return deleted\n",
    "\n",
    "g = Graph([v, w], [e])\n",
    "print(remove_edge(g, e))\n",
    "\n",
    "g = Graph([v, w], [e])\n",
    "Graph.remove_edge = remove_edge\n",
    "print(g.remove_edge(e))"
   ]
  },
  {
   "cell_type": "markdown",
   "metadata": {},
   "source": [
    "<p style=\"background-color:#D0D0FF; padding:10px;\"><em>Exercise 2.5:</em> Write a method named vertices that returns a list of the vertices in a graph.</p>"
   ]
  },
  {
   "cell_type": "code",
   "execution_count": 6,
   "metadata": {},
   "outputs": [
    {
     "name": "stdout",
     "output_type": "stream",
     "text": [
      "[Vertex('w'), Vertex('v')]\n",
      "[Vertex('w'), Vertex('v')]\n"
     ]
    }
   ],
   "source": [
    "def vertices(self):\n",
    "    '''return a list of vertices in a graph'''\n",
    "    v = set(self.keys())\n",
    "    for k in self.keys():\n",
    "        v.update(self[k].keys())\n",
    "    return list(v)\n",
    "\n",
    "g = Graph([v, w], [e])\n",
    "print(vertices(g))\n",
    "\n",
    "Graph.vertices = vertices\n",
    "print(g.vertices())"
   ]
  },
  {
   "cell_type": "markdown",
   "metadata": {},
   "source": [
    "<p style=\"background-color:#D0D0FF; padding:10px;\"><em>Exercise 2.6:</em> Write a method named edges that returns a list of edges in a graph. Note that in our representation of an undirected graph there are two references to each edge.</p>"
   ]
  },
  {
   "cell_type": "code",
   "execution_count": 7,
   "metadata": {},
   "outputs": [
    {
     "name": "stdout",
     "output_type": "stream",
     "text": [
      "[Edge(Vertex('v'), Vertex('w'))]\n",
      "[Edge(Vertex('v'), Vertex('w'))]\n"
     ]
    }
   ],
   "source": [
    "def edges(self):\n",
    "    '''return a list of unique edges in a graph'''\n",
    "    e = set()\n",
    "    for k in self.keys():\n",
    "        e.update(self[k].values())\n",
    "    return list(e)\n",
    "\n",
    "print(edges(g))\n",
    "\n",
    "Graph.edges = edges\n",
    "print(g.edges())"
   ]
  },
  {
   "cell_type": "markdown",
   "metadata": {},
   "source": [
    "<p style=\"background-color:#D0D0FF; padding:10px;\"><em>Exercise 2.7:</em> Write a method named out_vertices that takes a Vertex and returns a list of the adjacent vertices (the ones connected to the given node by an edge).</p>"
   ]
  },
  {
   "cell_type": "code",
   "execution_count": 8,
   "metadata": {},
   "outputs": [
    {
     "name": "stdout",
     "output_type": "stream",
     "text": [
      "[Vertex('w')]\n",
      "[Vertex('w')]\n"
     ]
    }
   ],
   "source": [
    "def out_vertices(self, v):\n",
    "    '''return a list of vertices connected out from specified vertex'''\n",
    "    v_out = set()\n",
    "    if v in self:\n",
    "        v_out.update(self[v].keys())\n",
    "    return list(v_out)\n",
    "\n",
    "print(out_vertices(g, v))\n",
    "\n",
    "Graph.out_vertices = out_vertices\n",
    "print(g.out_vertices(v))"
   ]
  },
  {
   "cell_type": "markdown",
   "metadata": {},
   "source": [
    "<p style=\"background-color:#D0D0FF; padding:10px;\"><em>Exercise 2.8:</em> Write a method named out_edges that takes a Vertex and returns a list of edges connected to the given Vertex.</p>"
   ]
  },
  {
   "cell_type": "code",
   "execution_count": 9,
   "metadata": {},
   "outputs": [
    {
     "name": "stdout",
     "output_type": "stream",
     "text": [
      "[Edge(Vertex('v'), Vertex('w'))]\n",
      "[Edge(Vertex('v'), Vertex('w'))]\n"
     ]
    }
   ],
   "source": [
    "def out_edges(self, v):\n",
    "    '''return a list of edges connected out from specified vertex'''\n",
    "    e_out = set()\n",
    "    if v in self:\n",
    "        e_out.update(self[v].values())\n",
    "    return list(e_out)\n",
    "\n",
    "print(out_edges(g, v))\n",
    "\n",
    "Graph.out_edges = out_edges\n",
    "print(g.out_edges(v))"
   ]
  },
  {
   "cell_type": "markdown",
   "metadata": {},
   "source": [
    "<p style=\"background-color:#D0D0FF; padding:10px;\"><em>Exercise 2.9:</em> Write a method named add_all_edges that starts with an edgeless Graph and makes a complete graph by adding edges between all pairs of vertices.</p>"
   ]
  },
  {
   "cell_type": "code",
   "execution_count": 10,
   "metadata": {},
   "outputs": [
    {
     "name": "stdout",
     "output_type": "stream",
     "text": [
      "1 edges created\n"
     ]
    }
   ],
   "source": [
    "def add_all_edges(self):\n",
    "    '''Create edges between all vertices'''\n",
    "    created=0\n",
    "    for v1, v2 in itertools.combinations(self.keys(), 2):\n",
    "        if v2 not in self[v1]:\n",
    "            created += 1\n",
    "            self.add_edge(Edge(v1, v2))\n",
    "    return created\n",
    "\n",
    "g = Graph([v, w], [])\n",
    "Graph.add_all_edges = add_all_edges\n",
    "print(g.add_all_edges(), 'edges created')\n"
   ]
  },
  {
   "cell_type": "markdown",
   "metadata": {},
   "source": [
    "<p style=\"background-color:#D0D0FF; padding:10px;\"><em>Exercise 3:</em> Write a method named add_regular_edges that starts with an edgeless graph and adds edges so that every vertex has the same degree. The degree of a node is the number of edges it is connected to.</p>"
   ]
  },
  {
   "cell_type": "code",
   "execution_count": 11,
   "metadata": {},
   "outputs": [
    {
     "name": "stdout",
     "output_type": "stream",
     "text": [
      "10000000 loops, best of 3: 98.4 ns per loop\n",
      "10000000 loops, best of 3: 73.1 ns per loop\n"
     ]
    }
   ],
   "source": [
    "k = 7\n",
    "%timeit k % 2\n",
    "%timeit k & 1"
   ]
  },
  {
   "cell_type": "code",
   "execution_count": 12,
   "metadata": {},
   "outputs": [
    {
     "data": {
      "text/plain": [
       "{Vertex('w'): {Vertex('y'): Edge(Vertex('w'), Vertex('y')),\n",
       "  Vertex('v'): Edge(Vertex('v'), Vertex('w'))},\n",
       " Vertex('x'): {Vertex('y'): Edge(Vertex('y'), Vertex('x')),\n",
       "  Vertex('v'): Edge(Vertex('x'), Vertex('v'))},\n",
       " Vertex('v'): {Vertex('w'): Edge(Vertex('v'), Vertex('w')),\n",
       "  Vertex('x'): Edge(Vertex('x'), Vertex('v'))},\n",
       " Vertex('y'): {Vertex('w'): Edge(Vertex('w'), Vertex('y')),\n",
       "  Vertex('x'): Edge(Vertex('y'), Vertex('x'))}}"
      ]
     },
     "execution_count": 12,
     "metadata": {},
     "output_type": "execute_result"
    }
   ],
   "source": [
    "def add_regular_edges(self, k):\n",
    "    '''Add edges so that every vertex has the same degree k'''\n",
    "    n = len(self)\n",
    "    if self.edges():\n",
    "        raise TypeError('Function requires an edgeless graph')\n",
    "    elif n < k+1:\n",
    "        raise ValueError('Maximum degree is 1 less than the number of vertices ({0:d})'.format(len(self)))\n",
    "    elif k*n & 1:\n",
    "        raise ValueError('Product of the degree and number of vertices ({0:d}) must be even'.format(len(self)))\n",
    "    \n",
    "    created=0\n",
    "    if k == 0:\n",
    "        return created\n",
    "    \n",
    "    vertices = self.vertices()\n",
    "    m = int(k / 2)\n",
    "    for i, v in enumerate(vertices):\n",
    "        for j in range(m):\n",
    "            self.add_edge(Edge(v, vertices[(i + j + 1) % n]))\n",
    "\n",
    "        if k & 1:\n",
    "            self.add_edge(Edge(v, vertices[(i + (n / 2)) % n]))    \n",
    "            \n",
    "x = Vertex('x')\n",
    "y = Vertex('y')\n",
    "g = Graph([v, w, x,y], [])\n",
    "Graph.add_regular_edges = add_regular_edges\n",
    "\n",
    "g.add_regular_edges(2)\n",
    "g"
   ]
  },
  {
   "cell_type": "markdown",
   "metadata": {},
   "source": [
    "<p style=\"background-color:#D0D0FF; padding:10px;\"><em>Exercise 4:</em> Create a file named RandomGraph.py and define a class named RandomGraph that inherits from Graph and provides a method named add_random_edges that takes a probability p as a parameter and, starting with an edgeless graph, adds edges at random so that the probability is p that there is an edge between any two nodes.</p>"
   ]
  },
  {
   "cell_type": "code",
   "execution_count": 13,
   "metadata": {},
   "outputs": [
    {
     "name": "stdout",
     "output_type": "stream",
     "text": [
      "3 edges created\n",
      "{Vertex('w'): {Vertex('v'): Edge(Vertex('w'), Vertex('v')), Vertex('y'): Edge(Vertex('w'), Vertex('y'))}, Vertex('x'): {Vertex('v'): Edge(Vertex('x'), Vertex('v'))}, Vertex('v'): {Vertex('w'): Edge(Vertex('w'), Vertex('v')), Vertex('x'): Edge(Vertex('x'), Vertex('v'))}, Vertex('y'): {Vertex('w'): Edge(Vertex('w'), Vertex('y'))}}\n"
     ]
    }
   ],
   "source": [
    "class RandomGraph(Graph):\n",
    "    \"\"\"An Erdos-Renyi random graph is a Graph where the probability of an edge between any two nodes is (p).\n",
    "\n",
    "Instances are created as follows:\n",
    "\n",
    "RandomGraph(list_of_vertices, list_of_edges)\n",
    "RandomGraph(number_of_vertices, probability_of_edges)\n",
    "    \"\"\"\n",
    "    def add_random_edges(self, p):\n",
    "        '''adds edges at random so that the probability is p that there is an edge between any two nodes'''\n",
    "        if self.edges():\n",
    "            raise TypeError('Function requires an edgeless graph')\n",
    "        \n",
    "        random.seed(42) # no args to seed with current time\n",
    "        created=0\n",
    "        \n",
    "        # itertools.combinations checks that v1 > v2, so this won't roll the dice twice\n",
    "        for v1, v2 in itertools.combinations(self.keys(), 2):\n",
    "            if random.random() <= p:\n",
    "                created += 1\n",
    "                self.add_edge(Edge(v1, v2))\n",
    "        \n",
    "        return created\n",
    "\n",
    "g = RandomGraph([v, w, x, y], [])\n",
    "print(g.add_random_edges(0.5),'edges created')\n",
    "print(g)"
   ]
  },
  {
   "cell_type": "markdown",
   "metadata": {},
   "source": [
    "<p style=\"background-color:#D0D0FF; padding:10px;\"><em>Exercise 5:</em> A graph is connected if there is a path from every node to every other node [<a href=\"http://en.wikipedia.org/wiki/Connectivity_(graph_theory)\" target=\"_blank\">wiki</a>].  Write a Graph method named is_connected that returns True if the Graph is connected and False otherwise.</p>"
   ]
  },
  {
   "cell_type": "code",
   "execution_count": 14,
   "metadata": {},
   "outputs": [
    {
     "name": "stdout",
     "output_type": "stream",
     "text": [
      "Empty graph is_connected = False\n",
      "Connected graph is_connected = True\n"
     ]
    },
    {
     "data": {
      "text/plain": [
       "{Vertex('w'): {Vertex('x'): Edge(Vertex('w'), Vertex('x')),\n",
       "  Vertex('v'): Edge(Vertex('w'), Vertex('v')),\n",
       "  Vertex('y'): Edge(Vertex('w'), Vertex('y'))},\n",
       " Vertex('x'): {Vertex('w'): Edge(Vertex('w'), Vertex('x')),\n",
       "  Vertex('v'): Edge(Vertex('x'), Vertex('v')),\n",
       "  Vertex('y'): Edge(Vertex('x'), Vertex('y'))},\n",
       " Vertex('v'): {Vertex('w'): Edge(Vertex('w'), Vertex('v')),\n",
       "  Vertex('x'): Edge(Vertex('x'), Vertex('v')),\n",
       "  Vertex('y'): Edge(Vertex('v'), Vertex('y'))},\n",
       " Vertex('y'): {Vertex('w'): Edge(Vertex('w'), Vertex('y')),\n",
       "  Vertex('x'): Edge(Vertex('x'), Vertex('y')),\n",
       "  Vertex('v'): Edge(Vertex('v'), Vertex('y'))}}"
      ]
     },
     "execution_count": 14,
     "metadata": {},
     "output_type": "execute_result"
    }
   ],
   "source": [
    "def is_connected(self):\n",
    "    '''returns True if the Graph is connected and False otherwise'''\n",
    "    vertices = set(self.vertices())\n",
    "    \n",
    "    for v in self.keys():\n",
    "        # Set of connections from vertex...\n",
    "        s = set(self[v].keys())\n",
    "        # ...plus the vertex itself...\n",
    "        s.add(v)\n",
    "        # ...should account for all of the vertices in the graph\n",
    "        if vertices.difference(s):\n",
    "            return False\n",
    "    \n",
    "    # Every node is connected to each other\n",
    "    return True\n",
    "\n",
    "g = Graph([v, w, x, y], [])\n",
    "print('Empty graph is_connected =', is_connected(g))\n",
    "\n",
    "Graph.is_connected = is_connected\n",
    "g.add_all_edges()\n",
    "print('Connected graph is_connected =', g.is_connected())\n",
    "\n",
    "g"
   ]
  },
  {
   "cell_type": "markdown",
   "metadata": {},
   "source": [
    "<p style=\"background-color:#D0D0FF; padding:10px;\"><em>Exercise 6:</em>  In the 1960s, Paul Erdős and Afréd Rényi <a href=\"http://www.renyi.hu/~p_erdos/1960-10.eps\" target=\"_blank\">showed</a> that for a number of graph properties there is a threshold value of the probability p below which the property is rare and above which it is almost certain. One of the properties that displays this kind of transition is connectedness. For a given size n, there is a critical value, p*, such that a random graph G(n, p) is unlikely to be connected if p < p* and very likely to be connected if p > p*.\n",
    "    <br /><br />\n",
    "Write a program that tests this result by generating random graphs for values of n and p and computes the fraction of them that are connected.\n",
    "<br /><br />\n",
    "How does the abruptness of the transition depend on n?</p>"
   ]
  },
  {
   "cell_type": "code",
   "execution_count": 15,
   "metadata": {},
   "outputs": [
    {
     "data": {
      "text/plain": [
       "{Vertex('3'): {Vertex('1'): Edge(Vertex('3'), Vertex('1')),\n",
       "  Vertex('0'): Edge(Vertex('3'), Vertex('0')),\n",
       "  Vertex('4'): Edge(Vertex('3'), Vertex('4'))},\n",
       " Vertex('2'): {},\n",
       " Vertex('1'): {Vertex('3'): Edge(Vertex('3'), Vertex('1')),\n",
       "  Vertex('0'): Edge(Vertex('1'), Vertex('0')),\n",
       "  Vertex('4'): Edge(Vertex('1'), Vertex('4'))},\n",
       " Vertex('0'): {Vertex('3'): Edge(Vertex('3'), Vertex('0')),\n",
       "  Vertex('1'): Edge(Vertex('1'), Vertex('0')),\n",
       "  Vertex('4'): Edge(Vertex('0'), Vertex('4'))},\n",
       " Vertex('4'): {Vertex('3'): Edge(Vertex('3'), Vertex('4')),\n",
       "  Vertex('1'): Edge(Vertex('1'), Vertex('4')),\n",
       "  Vertex('0'): Edge(Vertex('0'), Vertex('4'))}}"
      ]
     },
     "execution_count": 15,
     "metadata": {},
     "output_type": "execute_result"
    }
   ],
   "source": [
    "def generateRandomGraph(n, p):\n",
    "    \"\"\"Generate a random graph with n vertices and probability of connection p\"\"\"\n",
    "    g = RandomGraph([ Vertex(str(i)) for i in range(n) ], [])\n",
    "    g.add_random_edges(p)\n",
    "    return g\n",
    "\n",
    "generateRandomGraph(5, 0.5)"
   ]
  },
  {
   "cell_type": "code",
   "execution_count": 16,
   "metadata": {},
   "outputs": [
    {
     "name": "stdout",
     "output_type": "stream",
     "text": [
      "f(5, 0.0) = 0.0000\n",
      "f(5, 0.1) = 0.0000\n",
      "f(5, 0.2) = 0.0000\n",
      "f(5, 0.3) = 0.0000\n",
      "f(5, 0.4) = 0.0000\n",
      "f(5, 0.5) = 0.0000\n",
      "f(5, 0.6) = 0.0000\n",
      "f(5, 0.7) = 0.0000\n",
      "f(5, 0.8) = 0.0000\n",
      "f(5, 0.9) = 1.0000\n",
      "f(5, 1.0) = 1.0000\n"
     ]
    }
   ],
   "source": [
    "def testRandomGraph(n, p, min_tests=1000):\n",
    "    '''Generate RandomGraph's and return the fraction of how many are connected'''\n",
    "    connected = 0\n",
    "    tests = min_tests\n",
    "    for i in range(min_tests):\n",
    "        if generateRandomGraph(n, p).is_connected():\n",
    "            connected += 1\n",
    "    \n",
    "    return float(connected)/tests\n",
    "\n",
    "RandomGraph.is_connected = is_connected\n",
    "for i in range(11):\n",
    "    j = i/10.0\n",
    "    print('f({:d}, {:0.1f}) = {:0.04f}'.format(5, j, testRandomGraph(5, j)))"
   ]
  },
  {
   "cell_type": "code",
   "execution_count": 17,
   "metadata": {},
   "outputs": [
    {
     "name": "stdout",
     "output_type": "stream",
     "text": [
      "f(5, 0.8921) = 0.0000\n",
      "f(5, 0.8922) = 1.0000\n",
      "f(5, 0.8923) = 1.0000\n",
      "f(5, 0.8924) = 1.0000\n",
      "f(5, 0.8925) = 1.0000\n",
      "f(5, 0.8926) = 1.0000\n",
      "f(5, 0.8927) = 1.0000\n",
      "f(5, 0.8928) = 1.0000\n",
      "f(5, 0.8929) = 1.0000\n",
      "f(5, 0.8930) = 1.0000\n",
      "f(5, 0.8931) = 1.0000\n"
     ]
    }
   ],
   "source": [
    "for i in range(11):\n",
    "    j = i*1e-4 + 0.8921\n",
    "    print('f({:d}, {:0.4f}) = {:0.04f}'.format(5, j, testRandomGraph(5, j)))"
   ]
  },
  {
   "cell_type": "code",
   "execution_count": 18,
   "metadata": {},
   "outputs": [
    {
     "name": "stdout",
     "output_type": "stream",
     "text": [
      "Round 1: f(n=5, p=0.8000 to 0.9000) = 0.0 - 1.0\n",
      "Round 2: f(n=5, p=0.8900 to 0.9000) = 0.0 - 1.0\n",
      "Round 3: f(n=5, p=0.8920 to 0.8930) = 0.0 - 1.0\n",
      "Round 4: f(n=5, p=0.8921 to 0.8922) = 0.0 - 1.0\n"
     ]
    },
    {
     "data": {
      "text/plain": [
       "[(0.0, 0.8921), (1.0, 0.8922)]"
      ]
     },
     "execution_count": 18,
     "metadata": {},
     "output_type": "execute_result"
    }
   ],
   "source": [
    "def testConnectedness(n, places=4, verbose=True, min_tests=100):\n",
    "    '''Simple search for p values where connectivity > 0% and < 100%'''\n",
    "    start = 0\n",
    "    stop = 1\n",
    "    for digit in range(1,places+1):\n",
    "        p_test = [ i * 10**(-1*digit) for i in range(int(start * 10**digit), int(stop * 10**digit + 1)) ]\n",
    "        connected = [ (testRandomGraph(n,i,min_tests), i) for i in p_test ]\n",
    "        start_idx = [ i[0] > 0 for i in connected ].index(True)-1\n",
    "        stop_idx  = [ i[0] < 1 for i in connected ].index(False)\n",
    "        start = connected[start_idx][1]\n",
    "        stop  = connected[stop_idx][1]\n",
    "        if verbose:\n",
    "            s = 'Round {0:d}: f(n={3:d}, p={1:.'+'{0:d}'.format(places)+'f} to {2:.'+'{0:d}'.format(places)+'f}) = 0.0 - 1.0'\n",
    "            print(s.format(digit, start, stop, n))\n",
    "    \n",
    "    #return final results\n",
    "    return connected[start_idx:stop_idx+1]\n",
    "\n",
    "testConnectedness(5, 4)"
   ]
  },
  {
   "cell_type": "code",
   "execution_count": 19,
   "metadata": {},
   "outputs": [
    {
     "name": "stdout",
     "output_type": "stream",
     "text": [
      "f(n=3, p=0.6394 to 0.6395) = 0.0 to 1.0\n",
      "f(n=4, p=0.7364 to 0.7365) = 0.0 to 1.0\n",
      "f(n=5, p=0.8921 to 0.8922) = 0.0 to 1.0\n",
      "f(n=6, p=0.8921 to 0.8922) = 0.0 to 1.0\n",
      "f(n=7, p=0.8921 to 0.8922) = 0.0 to 1.0\n",
      "f(n=8, p=0.9572 to 0.9573) = 0.0 to 1.0\n",
      "f(n=9, p=0.9731 to 0.9732) = 0.0 to 1.0\n",
      "f(n=10, p=0.9731 to 0.9732) = 0.0 to 1.0\n"
     ]
    }
   ],
   "source": [
    "# Check how the transition point changes for different values of n\n",
    "digits=4\n",
    "for n in range(3,10+1):\n",
    "    results = testConnectedness(n, digits, False)\n",
    "    s = 'f(n={0:d}, p={1:.'+str(digits)+'f} to {2:.'+str(digits)+'f}) = 0.0 to 1.0'\n",
    "    print(s.format(n, results[0][1], results[-1][1]))\n",
    "    "
   ]
  },
  {
   "cell_type": "markdown",
   "metadata": {},
   "source": [
    "<p style=\"background-color:#D0D0FF; padding:10px;\"><em>Exercise 7:</em>  Write a generator that yields an infinite sequence of alpha-numeric identifiers, starting with a1 through z1, then a2 through z2, and so on.</p>"
   ]
  },
  {
   "cell_type": "code",
   "execution_count": 20,
   "metadata": {},
   "outputs": [
    {
     "name": "stdout",
     "output_type": "stream",
     "text": [
      "[(0, 'a1'), (1, 'b1'), (2, 'c1'), (3, 'd1'), (4, 'e1'), (5, 'f1'), (6, 'g1'), (7, 'h1'), (8, 'i1'), (9, 'j1')]\n",
      "[(110, 'g5'), (111, 'h5'), (112, 'i5'), (113, 'j5'), (114, 'k5'), (115, 'l5'), (116, 'm5'), (117, 'n5'), (118, 'o5'), (119, 'p5')]\n"
     ]
    }
   ],
   "source": [
    "from string import ascii_lowercase\n",
    "\n",
    "def genAlphaNumeric():\n",
    "    '''yields an infinite sequence of alpha-numeric identifiers, starting with a1 through z1, then a2 through z2, and so on'''\n",
    "    i=0\n",
    "    while True:\n",
    "        i += 1 # automatically converts to Long at 2**31\n",
    "        for s in ascii_lowercase:\n",
    "            yield s+str(i)\n",
    "        \n",
    "itr = enumerate(genAlphaNumeric())\n",
    "print([ next(itr) for i in range(10) ])\n",
    "\n",
    "for i in range(100):\n",
    "    next(itr)\n",
    "\n",
    "print([ next(itr) for i in range(10) ])"
   ]
  }
 ],
 "metadata": {
  "kernelspec": {
   "display_name": "Python [Root]",
   "language": "python",
   "name": "Python [Root]"
  },
  "language_info": {
   "codemirror_mode": {
    "name": "ipython",
    "version": 3
   },
   "file_extension": ".py",
   "mimetype": "text/x-python",
   "name": "python",
   "nbconvert_exporter": "python",
   "pygments_lexer": "ipython3",
   "version": "3.5.3"
  }
 },
 "nbformat": 4,
 "nbformat_minor": 1
}
