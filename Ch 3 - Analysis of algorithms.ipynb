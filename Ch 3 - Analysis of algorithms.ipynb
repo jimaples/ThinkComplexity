{
 "cells": [
  {
   "cell_type": "markdown",
   "metadata": {},
   "source": [
    "<p style=\"background-color:#D0D0FF; padding:10px;\">This notebook presents solutions to the exercises in <a href=\"http://www.greenteapress.com/compmod/html/thinkcomplexity004.html\" target=\"_blank\">Chapter 3</a> of Allen B. Downey's <a href=\"http://www.greenteapress.com/compmod/\" target=\"_blank\">Think Complexity</a></p>"
   ]
  },
  {
   "cell_type": "code",
   "execution_count": 1,
   "metadata": {
    "collapsed": false
   },
   "outputs": [
    {
     "name": "stdout",
     "output_type": "stream",
     "text": [
      "<__main__.LinearMap object at 0x0000014957180AC8>\n",
      "<__main__.BetterMap object at 0x000001495721B438>\n",
      "<__main__.HashMap object at 0x000001495721B4A8>\n"
     ]
    }
   ],
   "source": [
    "# provided functions\n",
    "class LinearMap(object):\n",
    "\n",
    "    def __init__(self):\n",
    "        self.items = []\n",
    "\n",
    "    def add(self, k, v):\n",
    "        self.items.append((k, v))\n",
    "\n",
    "    def get(self, k):\n",
    "        for key, val in self.items:\n",
    "            if key == k:\n",
    "                return val\n",
    "        raise KeyError\n",
    "        \n",
    "class BetterMap(object):\n",
    "\n",
    "    def __init__(self, n=100):\n",
    "        self.maps = []\n",
    "        for i in range(n):\n",
    "            self.maps.append(LinearMap())\n",
    "\n",
    "    def find_map(self, k):\n",
    "        index = hash(k) % len(self.maps)\n",
    "        return self.maps[index]\n",
    "\n",
    "    def add(self, k, v):\n",
    "        m = self.find_map(k)\n",
    "        m.add(k, v)\n",
    "\n",
    "    def get(self, k):\n",
    "        m = self.find_map(k)\n",
    "        return m.get(k)\n",
    "    \n",
    "class HashMap(object):\n",
    "\n",
    "    def __init__(self):\n",
    "        self.maps = BetterMap(2)\n",
    "        self.num = 0\n",
    "\n",
    "    def get(self, k):\n",
    "        return self.maps.get(k)\n",
    "\n",
    "    def add(self, k, v):\n",
    "        if self.num == len(self.maps.maps):\n",
    "            self.resize()\n",
    "\n",
    "        self.maps.add(k, v)\n",
    "        self.num += 1\n",
    "\n",
    "    def resize(self):\n",
    "        new_maps = BetterMap(self.num * 2)\n",
    "\n",
    "        for m in self.maps.maps:\n",
    "            for k, v in m.items:\n",
    "                new_maps.add(k, v)\n",
    "\n",
    "        self.maps = new_maps\n",
    "        \n",
    "lm = LinearMap()\n",
    "bm = BetterMap(2)\n",
    "hm = HashMap()\n",
    "for f in (lm,bm,hm):\n",
    "    print(f)"
   ]
  },
  {
   "cell_type": "markdown",
   "metadata": {},
   "source": [
    "<p style=\"background-color:#D0D0FF; padding:10px;\"><em>Exercise 3:</em> Write a function called bisection that takes a sorted list and a target value and returns the index of the value in the list, if it’s there, or None if it’s not. Or you could read the documentation of the bisect module ([link](https://docs.python.org/3/library/bisect.html?highlight=bisect#module-bisect)) and use that!</p>"
   ]
  },
  {
   "cell_type": "code",
   "execution_count": 2,
   "metadata": {
    "collapsed": false
   },
   "outputs": [
    {
     "name": "stdout",
     "output_type": "stream",
     "text": [
      "18\n",
      "18\n"
     ]
    }
   ],
   "source": [
    "from bisect import bisect\n",
    "big_list = range(1000)\n",
    "\n",
    "print(bisect(big_list, 17))\n",
    "print(big_list.index(17)+1)"
   ]
  },
  {
   "cell_type": "markdown",
   "metadata": {},
   "source": [
    "**Note:** Using bisect was more efficient in Python 2, but lists are one of many performance improvements in Python 3"
   ]
  },
  {
   "cell_type": "code",
   "execution_count": 3,
   "metadata": {
    "collapsed": false
   },
   "outputs": [
    {
     "name": "stdout",
     "output_type": "stream",
     "text": [
      "1000000 loops, best of 3: 1.51 µs per loop\n",
      "The slowest run took 5.25 times longer than the fastest. This could mean that an intermediate result is being cached.\n",
      "1000000 loops, best of 3: 355 ns per loop\n"
     ]
    }
   ],
   "source": [
    "idx = 17\n",
    "%timeit bisect(big_list, idx)\n",
    "%timeit big_list.index(idx)"
   ]
  },
  {
   "cell_type": "code",
   "execution_count": 4,
   "metadata": {
    "collapsed": false
   },
   "outputs": [
    {
     "name": "stdout",
     "output_type": "stream",
     "text": [
      "100000 loops, best of 3: 2.1 µs per loop\n",
      "The slowest run took 4.90 times longer than the fastest. This could mean that an intermediate result is being cached.\n",
      "1000000 loops, best of 3: 381 ns per loop\n"
     ]
    }
   ],
   "source": [
    "idx = 500\n",
    "%timeit bisect(big_list, idx)\n",
    "%timeit big_list.index(idx)"
   ]
  },
  {
   "cell_type": "code",
   "execution_count": 5,
   "metadata": {
    "collapsed": false
   },
   "outputs": [
    {
     "name": "stdout",
     "output_type": "stream",
     "text": [
      "The slowest run took 4.31 times longer than the fastest. This could mean that an intermediate result is being cached.\n",
      "100000 loops, best of 3: 2.08 µs per loop\n",
      "The slowest run took 6.16 times longer than the fastest. This could mean that an intermediate result is being cached.\n",
      "1000000 loops, best of 3: 379 ns per loop\n"
     ]
    }
   ],
   "source": [
    "idx = 947\n",
    "%timeit bisect(big_list, idx)\n",
    "%timeit big_list.index(idx)"
   ]
  },
  {
   "cell_type": "markdown",
   "metadata": {},
   "source": [
    "<p style=\"background-color:#D0D0FF; padding:10px;\"><em>Exercise 4:</em> My implementation of HashMap accesses the attributes of BetterMap directly, which shows poor object-oriented design.\n",
    "    <br /><br />\n",
    "    1: The special method __len__ is invoked by the built-in function len. Write a __len__ method for BetterMap and use it in add.\n",
    "    <br /><br />\n",
    "    2: Use a generator to write BetterMap.iteritems, and use it in resize.</p>"
   ]
  },
  {
   "cell_type": "code",
   "execution_count": 6,
   "metadata": {
    "collapsed": false
   },
   "outputs": [
    {
     "data": {
      "text/plain": [
       "([<__main__.LinearMap at 0x14957212588>,\n",
       "  <__main__.LinearMap at 0x14957212400>],\n",
       " 2)"
      ]
     },
     "execution_count": 6,
     "metadata": {},
     "output_type": "execute_result"
    }
   ],
   "source": [
    "# Part 1 # Add __len__ function to BetterMap\n",
    "def BetterMap__len__(self):\n",
    "    '''Return length of BetterMap instance'''\n",
    "    return len(self.maps)\n",
    "BetterMap.__len__ = BetterMap__len__\n",
    "\n",
    "BetterMap(2).maps, len(BetterMap(2))"
   ]
  },
  {
   "cell_type": "code",
   "execution_count": 7,
   "metadata": {
    "collapsed": false
   },
   "outputs": [
    {
     "data": {
      "text/plain": [
       "1"
      ]
     },
     "execution_count": 7,
     "metadata": {},
     "output_type": "execute_result"
    }
   ],
   "source": [
    "# Part 1 # Update add function to HashMap\n",
    "def HashMapadd(self, k, v):\n",
    "    '''Add key/value pair to HashMap'''\n",
    "    if self.num == len(self.maps):\n",
    "        self.resize()\n",
    "\n",
    "    self.maps.add(k, v)\n",
    "    self.num += 1\n",
    "    \n",
    "HashMap.add = HashMapadd\n",
    "\n",
    "h = HashMap()\n",
    "h.add('a',1)\n",
    "h.get('a')"
   ]
  },
  {
   "cell_type": "code",
   "execution_count": 8,
   "metadata": {
    "collapsed": false
   },
   "outputs": [
    {
     "name": "stdout",
     "output_type": "stream",
     "text": [
      "a 1\n"
     ]
    }
   ],
   "source": [
    "# Part 2 # Use a generator to write BetterMap.iteritems\n",
    "def BetterMapiteritems(self):\n",
    "    '''Iterate through key/value pairs in BetterMap'''\n",
    "    for m in self.maps:\n",
    "        for k, v in m.items:\n",
    "            yield (k,v)\n",
    "\n",
    "BetterMap.iteritems = BetterMapiteritems\n",
    "\n",
    "bm = BetterMap(2)\n",
    "bm.add('a',1)\n",
    "for k, v in bm.iteritems():\n",
    "    print(k,v)"
   ]
  },
  {
   "cell_type": "code",
   "execution_count": 9,
   "metadata": {
    "collapsed": false
   },
   "outputs": [],
   "source": [
    "# Part 2 # Use BetterMap.iteritems in HashMap.resize.\n",
    "def HashMapresize(self):\n",
    "    '''Resize maps to make room for new values'''\n",
    "    new_maps = BetterMap(self.num * 2)\n",
    "\n",
    "    for k, v in self.maps.iteritems():\n",
    "        new_maps.add(k, v)\n",
    "\n",
    "    self.maps = new_maps\n",
    "\n",
    "HashMap.resize = HashMapresize\n",
    "\n",
    "h.resize()"
   ]
  },
  {
   "cell_type": "markdown",
   "metadata": {},
   "source": [
    "<p style=\"background-color:#D0D0FF; padding:10px;\"><em>Exercise 5:</em> A drawbacks of hashtables is that the elements have to be hashable, which usually means they have to be immutable. That’s why, in Python, you can use tuples but not lists as keys in a dictionary. An alternative is to use a tree-based map.\n",
    "    <br /><br />\n",
    "    Write an implementation of the map interface called TreeMap that uses a <a href=\"http://en.wikipedia.org/wiki/Red-black_tree\" target=\"_blank\">red-black tree</a> to perform add and get in log time. </p>"
   ]
  },
  {
   "cell_type": "markdown",
   "metadata": {},
   "source": [
    "This is a solved problem. A work in progress is shown below, but refer to [this reference](http://www.cs.auckland.ac.nz/software/AlgAnim/red_black.html), [the bintrees package](https://pypi.python.org/pypi/bintrees/), and [this other reference](http://eternallyconfuzzled.com/tuts/datastructures/jsw_tut_rbtree.aspx)"
   ]
  },
  {
   "cell_type": "code",
   "execution_count": 10,
   "metadata": {
    "collapsed": false
   },
   "outputs": [
    {
     "data": {
      "text/plain": [
       "(6, '5', None, 'None -> 5 -> (None,None)')"
      ]
     },
     "execution_count": 10,
     "metadata": {},
     "output_type": "execute_result"
    }
   ],
   "source": [
    "class RedBlackInt(int):\n",
    "    def __init__(self, key, value=None, parent=None, left_child=None, right_child=None):\n",
    "        int.__init__(value)\n",
    "        self.k = key\n",
    "        if value == None:\n",
    "            self.v = value\n",
    "        else:\n",
    "            self.v = key\n",
    "        self.p = parent\n",
    "        self.l = left_child\n",
    "        self.r = right_child\n",
    "        self.black = False\n",
    "    \n",
    "    def G(self):\n",
    "        '''Return grandparent'''\n",
    "        if self.p == None:\n",
    "            return None\n",
    "        else:\n",
    "            return self.p.p\n",
    "    \n",
    "    def U(self):\n",
    "        '''Return uncle'''\n",
    "        g = self.G()\n",
    "        \n",
    "        if g == None:\n",
    "            return None\n",
    "        elif self.p == g.l:\n",
    "            return g.r\n",
    "        else:\n",
    "            return g.l\n",
    "\n",
    "    def __str__(self):\n",
    "        return str(self.k)\n",
    "\n",
    "    def __repr__(self):\n",
    "        return ' -> '.join([ repr(self.p), str(self), '({0:s},{1:s})'.format(repr(self.l), repr(self.r)) ])\n",
    "\n",
    "    \n",
    "def RedBlackTree(object):\n",
    "    def __init__(self, root=None, node_type=RedBlackInt):\n",
    "        self.root = root\n",
    "        self.node_type = node_type\n",
    "        \n",
    "    def _binary_tree_insert(self, key, value=None):\n",
    "        '''Recursive function to navigate red-black tree and create new node'''\n",
    "        RedBlack = type(self)\n",
    "        if key < self.k:\n",
    "            if self.l == None:\n",
    "                node = RedBlack(key, value, self)\n",
    "                self.l = node\n",
    "                return node\n",
    "            else:\n",
    "                self.l._binary_tree_insert(key, value)\n",
    "        elif key > self.k:\n",
    "            if self.r == None:\n",
    "                node = RedBlack(key, value, self)\n",
    "                self.r = node\n",
    "                return node\n",
    "            else:\n",
    "                self.r._binary_tree_insert(key, value)\n",
    "                \n",
    "    def append(self, key, value=None):\n",
    "        if value == None:\n",
    "            value = key\n",
    "            \n",
    "        if root == None:\n",
    "            root = node_type(k, v)\n",
    "        else: \n",
    "            # Insertion begins by adding the node as any binary search tree insertion does and by coloring it red\n",
    "            self._binary_tree_insert(key, value)\n",
    "        \n",
    "        # Case 1: The current node N is at the root of the tree\n",
    "            \n",
    "RedBlack = RedBlackInt\n",
    "\n",
    "n = RedBlack(5)\n",
    "n+1, str(n), n.G(), repr(n)"
   ]
  },
  {
   "cell_type": "markdown",
   "metadata": {},
   "source": [
    "<p style=\"background-color:#D0D0FF; padding:10px;\"><em>Exercise 6:</em> Test the performance of LinearMap, BetterMap and HashMap; see if you can characterize their order of growth.\n",
    "<br /><br />\n",
    "You can download my map implementations from thinkcomplex.com/Map.py, and the code I used in this section from thinkcomplex.com/listsum.py.\n",
    "<br /><br />\n",
    "You will have to find a range of n that is big enough to show asymptotic behavior, but small enough to run quickly.</p>"
   ]
  },
  {
   "cell_type": "code",
   "execution_count": 11,
   "metadata": {
    "collapsed": false
   },
   "outputs": [],
   "source": [
    "def addValues(m, n=10):\n",
    "    for i in range(n):\n",
    "        m.add(str(i),i)"
   ]
  },
  {
   "cell_type": "code",
   "execution_count": 12,
   "metadata": {
    "collapsed": false
   },
   "outputs": [
    {
     "name": "stdout",
     "output_type": "stream",
     "text": [
      "\n",
      " <__main__.LinearMap object at 0x000001495721BAC8>\n",
      "The slowest run took 4.52 times longer than the fastest. This could mean that an intermediate result is being cached.\n",
      "100000 loops, best of 3: 6.92 µs per loop\n",
      "100000 loops, best of 3: 13.1 µs per loop\n",
      "100000 loops, best of 3: 19 µs per loop\n",
      "10000 loops, best of 3: 23.7 µs per loop\n",
      "\n",
      " <__main__.BetterMap object at 0x000001495721BB38>\n",
      "100000 loops, best of 3: 14.3 µs per loop\n",
      "10000 loops, best of 3: 28.2 µs per loop\n",
      "10000 loops, best of 3: 41.1 µs per loop\n",
      "10000 loops, best of 3: 57.2 µs per loop\n",
      "\n",
      " <__main__.HashMap object at 0x000001495721BBA8>\n",
      "The slowest run took 4.27 times longer than the fastest. This could mean that an intermediate result is being cached.\n",
      "10000 loops, best of 3: 24.6 µs per loop\n",
      "The slowest run took 7.95 times longer than the fastest. This could mean that an intermediate result is being cached.\n",
      "10000 loops, best of 3: 46.9 µs per loop\n",
      "The slowest run took 10.52 times longer than the fastest. This could mean that an intermediate result is being cached.\n",
      "10000 loops, best of 3: 70.7 µs per loop\n",
      "10000 loops, best of 3: 94.6 µs per loop\n"
     ]
    }
   ],
   "source": [
    "for m in [ LinearMap(), BetterMap(2), HashMap() ]:\n",
    "    print(u'\\n',m)\n",
    "    for n in range(10,40+10,10):\n",
    "        %timeit addValues(m, n)"
   ]
  },
  {
   "cell_type": "markdown",
   "metadata": {},
   "source": [
    "Compare performance against Python's standard dictionary type"
   ]
  },
  {
   "cell_type": "code",
   "execution_count": 14,
   "metadata": {
    "collapsed": false
   },
   "outputs": [
    {
     "name": "stdout",
     "output_type": "stream",
     "text": [
      "100000 loops, best of 3: 4.18 µs per loop\n",
      "100000 loops, best of 3: 7.91 µs per loop\n",
      "100000 loops, best of 3: 11.5 µs per loop\n",
      "100000 loops, best of 3: 15.3 µs per loop\n"
     ]
    }
   ],
   "source": [
    "def addValues2(d, n=10):\n",
    "    for i in range(n):\n",
    "        d[str(i)] = i\n",
    "\n",
    "m = {}\n",
    "for n in range(10,40+10,10):\n",
    "        %timeit addValues2(m, n)"
   ]
  }
 ],
 "metadata": {
  "kernelspec": {
   "display_name": "Python 3",
   "language": "python",
   "name": "python3"
  }
 },
 "nbformat": 4,
 "nbformat_minor": 0
}
